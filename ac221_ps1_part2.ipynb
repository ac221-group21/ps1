{
 "cells": [
  {
   "cell_type": "markdown",
   "metadata": {},
   "source": [
    "# AC 221: Critical Thinking in Data Science\n",
    "\n",
    "## Problem Set 1, Part 2\n",
    "**February 27, 2020**<br/>\n",
    "**Harvard University**<br/>\n",
    "**Spring 2020**<br/>\n",
    "\n",
    "<hr style=\"height:2pt\">"
   ]
  },
  {
   "cell_type": "code",
   "execution_count": 1,
   "metadata": {},
   "outputs": [],
   "source": [
    "import pandas as pd\n",
    "import numpy as np\n",
    "import matplotlib.pyplot as plt"
   ]
  },
  {
   "cell_type": "code",
   "execution_count": 2,
   "metadata": {},
   "outputs": [
    {
     "data": {
      "text/plain": [
       "'user_id'"
      ]
     },
     "execution_count": 2,
     "metadata": {},
     "output_type": "execute_result"
    }
   ],
   "source": [
    "quasi = pd.read_csv('data/final_quasi-identifiers.csv')\n",
    "quasi_list = list(quasi['variable'].values)\n",
    "\n",
    "# Drop user_id\n",
    "quasi_list.pop(1)"
   ]
  },
  {
   "cell_type": "code",
   "execution_count": 3,
   "metadata": {},
   "outputs": [
    {
     "name": "stderr",
     "output_type": "stream",
     "text": [
      "/home/justin/miniconda3/envs/ac221/lib/python3.8/site-packages/IPython/core/interactiveshell.py:3062: DtypeWarning: Columns (49,50,64) have mixed types.Specify dtype option on import or set low_memory=False.\n",
      "  has_raised = await self.run_ast_nodes(code_ast.body, cell_name,\n"
     ]
    },
    {
     "data": {
      "text/html": [
       "<div>\n",
       "<style scoped>\n",
       "    .dataframe tbody tr th:only-of-type {\n",
       "        vertical-align: middle;\n",
       "    }\n",
       "\n",
       "    .dataframe tbody tr th {\n",
       "        vertical-align: top;\n",
       "    }\n",
       "\n",
       "    .dataframe thead th {\n",
       "        text-align: right;\n",
       "    }\n",
       "</style>\n",
       "<table border=\"1\" class=\"dataframe\">\n",
       "  <thead>\n",
       "    <tr style=\"text-align: right;\">\n",
       "      <th></th>\n",
       "      <th>course_id</th>\n",
       "      <th>registered</th>\n",
       "      <th>viewed</th>\n",
       "      <th>explored</th>\n",
       "      <th>certified</th>\n",
       "      <th>completed</th>\n",
       "      <th>cc_by_ip</th>\n",
       "      <th>countryLabel</th>\n",
       "      <th>continent</th>\n",
       "      <th>city</th>\n",
       "      <th>...</th>\n",
       "      <th>roles_isInstructor</th>\n",
       "      <th>roles_isStaff</th>\n",
       "      <th>roles_isCCX</th>\n",
       "      <th>roles_isFinance</th>\n",
       "      <th>roles_isLibrary</th>\n",
       "      <th>roles_isSales</th>\n",
       "      <th>forumRoles_isAdmin</th>\n",
       "      <th>forumRoles_isCommunityTA</th>\n",
       "      <th>forumRoles_isModerator</th>\n",
       "      <th>forumRoles_isStudent</th>\n",
       "    </tr>\n",
       "  </thead>\n",
       "  <tbody>\n",
       "    <tr>\n",
       "      <th>0</th>\n",
       "      <td>HarvardX/PH525.1x/1T2018</td>\n",
       "      <td>True</td>\n",
       "      <td>False</td>\n",
       "      <td>NaN</td>\n",
       "      <td>False</td>\n",
       "      <td>False</td>\n",
       "      <td>GB</td>\n",
       "      <td>United Kingdom</td>\n",
       "      <td>Europe</td>\n",
       "      <td>Middlesbrough</td>\n",
       "      <td>...</td>\n",
       "      <td>NaN</td>\n",
       "      <td>NaN</td>\n",
       "      <td>NaN</td>\n",
       "      <td>NaN</td>\n",
       "      <td>NaN</td>\n",
       "      <td>NaN</td>\n",
       "      <td>NaN</td>\n",
       "      <td>NaN</td>\n",
       "      <td>NaN</td>\n",
       "      <td>1.0</td>\n",
       "    </tr>\n",
       "    <tr>\n",
       "      <th>1</th>\n",
       "      <td>HarvardX/PH525.1x/1T2018</td>\n",
       "      <td>True</td>\n",
       "      <td>True</td>\n",
       "      <td>True</td>\n",
       "      <td>False</td>\n",
       "      <td>False</td>\n",
       "      <td>US</td>\n",
       "      <td>United States</td>\n",
       "      <td>Americas</td>\n",
       "      <td>Seattle</td>\n",
       "      <td>...</td>\n",
       "      <td>NaN</td>\n",
       "      <td>NaN</td>\n",
       "      <td>NaN</td>\n",
       "      <td>NaN</td>\n",
       "      <td>NaN</td>\n",
       "      <td>NaN</td>\n",
       "      <td>NaN</td>\n",
       "      <td>NaN</td>\n",
       "      <td>NaN</td>\n",
       "      <td>1.0</td>\n",
       "    </tr>\n",
       "    <tr>\n",
       "      <th>2</th>\n",
       "      <td>HarvardX/PH525.1x/1T2018</td>\n",
       "      <td>True</td>\n",
       "      <td>True</td>\n",
       "      <td>False</td>\n",
       "      <td>False</td>\n",
       "      <td>False</td>\n",
       "      <td>NA</td>\n",
       "      <td>NA</td>\n",
       "      <td>NA</td>\n",
       "      <td>NA</td>\n",
       "      <td>...</td>\n",
       "      <td>NaN</td>\n",
       "      <td>NaN</td>\n",
       "      <td>NaN</td>\n",
       "      <td>NaN</td>\n",
       "      <td>NaN</td>\n",
       "      <td>NaN</td>\n",
       "      <td>NaN</td>\n",
       "      <td>NaN</td>\n",
       "      <td>NaN</td>\n",
       "      <td>1.0</td>\n",
       "    </tr>\n",
       "    <tr>\n",
       "      <th>3</th>\n",
       "      <td>HarvardX/PH525.1x/1T2018</td>\n",
       "      <td>True</td>\n",
       "      <td>True</td>\n",
       "      <td>False</td>\n",
       "      <td>False</td>\n",
       "      <td>False</td>\n",
       "      <td>US</td>\n",
       "      <td>United States</td>\n",
       "      <td>North America</td>\n",
       "      <td>NA</td>\n",
       "      <td>...</td>\n",
       "      <td>NaN</td>\n",
       "      <td>NaN</td>\n",
       "      <td>NaN</td>\n",
       "      <td>NaN</td>\n",
       "      <td>NaN</td>\n",
       "      <td>NaN</td>\n",
       "      <td>NaN</td>\n",
       "      <td>NaN</td>\n",
       "      <td>NaN</td>\n",
       "      <td>1.0</td>\n",
       "    </tr>\n",
       "    <tr>\n",
       "      <th>4</th>\n",
       "      <td>HarvardX/PH525.1x/1T2018</td>\n",
       "      <td>True</td>\n",
       "      <td>True</td>\n",
       "      <td>True</td>\n",
       "      <td>False</td>\n",
       "      <td>False</td>\n",
       "      <td>HU</td>\n",
       "      <td>Hungary</td>\n",
       "      <td>Europe</td>\n",
       "      <td>Budapest</td>\n",
       "      <td>...</td>\n",
       "      <td>NaN</td>\n",
       "      <td>NaN</td>\n",
       "      <td>NaN</td>\n",
       "      <td>NaN</td>\n",
       "      <td>NaN</td>\n",
       "      <td>NaN</td>\n",
       "      <td>NaN</td>\n",
       "      <td>NaN</td>\n",
       "      <td>NaN</td>\n",
       "      <td>1.0</td>\n",
       "    </tr>\n",
       "    <tr>\n",
       "      <th>...</th>\n",
       "      <td>...</td>\n",
       "      <td>...</td>\n",
       "      <td>...</td>\n",
       "      <td>...</td>\n",
       "      <td>...</td>\n",
       "      <td>...</td>\n",
       "      <td>...</td>\n",
       "      <td>...</td>\n",
       "      <td>...</td>\n",
       "      <td>...</td>\n",
       "      <td>...</td>\n",
       "      <td>...</td>\n",
       "      <td>...</td>\n",
       "      <td>...</td>\n",
       "      <td>...</td>\n",
       "      <td>...</td>\n",
       "      <td>...</td>\n",
       "      <td>...</td>\n",
       "      <td>...</td>\n",
       "      <td>...</td>\n",
       "      <td>...</td>\n",
       "    </tr>\n",
       "    <tr>\n",
       "      <th>1141730</th>\n",
       "      <td>HarvardX/PH525.5x/2T2018</td>\n",
       "      <td>True</td>\n",
       "      <td>False</td>\n",
       "      <td>NaN</td>\n",
       "      <td>False</td>\n",
       "      <td>False</td>\n",
       "      <td>NA</td>\n",
       "      <td>NA</td>\n",
       "      <td>NA</td>\n",
       "      <td>NA</td>\n",
       "      <td>...</td>\n",
       "      <td>NaN</td>\n",
       "      <td>NaN</td>\n",
       "      <td>NaN</td>\n",
       "      <td>NaN</td>\n",
       "      <td>NaN</td>\n",
       "      <td>NaN</td>\n",
       "      <td>NaN</td>\n",
       "      <td>NaN</td>\n",
       "      <td>NaN</td>\n",
       "      <td>1.0</td>\n",
       "    </tr>\n",
       "    <tr>\n",
       "      <th>1141731</th>\n",
       "      <td>HarvardX/PH525.5x/2T2018</td>\n",
       "      <td>True</td>\n",
       "      <td>False</td>\n",
       "      <td>NaN</td>\n",
       "      <td>False</td>\n",
       "      <td>False</td>\n",
       "      <td>IN</td>\n",
       "      <td>India</td>\n",
       "      <td>Asia</td>\n",
       "      <td>Delhi</td>\n",
       "      <td>...</td>\n",
       "      <td>NaN</td>\n",
       "      <td>NaN</td>\n",
       "      <td>NaN</td>\n",
       "      <td>NaN</td>\n",
       "      <td>NaN</td>\n",
       "      <td>NaN</td>\n",
       "      <td>NaN</td>\n",
       "      <td>NaN</td>\n",
       "      <td>NaN</td>\n",
       "      <td>1.0</td>\n",
       "    </tr>\n",
       "    <tr>\n",
       "      <th>1141732</th>\n",
       "      <td>HarvardX/PH525.5x/2T2018</td>\n",
       "      <td>True</td>\n",
       "      <td>False</td>\n",
       "      <td>NaN</td>\n",
       "      <td>False</td>\n",
       "      <td>False</td>\n",
       "      <td>CN</td>\n",
       "      <td>China</td>\n",
       "      <td>Asia</td>\n",
       "      <td>Beijing</td>\n",
       "      <td>...</td>\n",
       "      <td>NaN</td>\n",
       "      <td>NaN</td>\n",
       "      <td>NaN</td>\n",
       "      <td>NaN</td>\n",
       "      <td>NaN</td>\n",
       "      <td>NaN</td>\n",
       "      <td>NaN</td>\n",
       "      <td>NaN</td>\n",
       "      <td>NaN</td>\n",
       "      <td>1.0</td>\n",
       "    </tr>\n",
       "    <tr>\n",
       "      <th>1141733</th>\n",
       "      <td>HarvardX/PH525.5x/2T2018</td>\n",
       "      <td>True</td>\n",
       "      <td>False</td>\n",
       "      <td>NaN</td>\n",
       "      <td>False</td>\n",
       "      <td>False</td>\n",
       "      <td>BR</td>\n",
       "      <td>Brazil</td>\n",
       "      <td>Americas</td>\n",
       "      <td>Almirante Tamandaré</td>\n",
       "      <td>...</td>\n",
       "      <td>NaN</td>\n",
       "      <td>NaN</td>\n",
       "      <td>NaN</td>\n",
       "      <td>NaN</td>\n",
       "      <td>NaN</td>\n",
       "      <td>NaN</td>\n",
       "      <td>NaN</td>\n",
       "      <td>NaN</td>\n",
       "      <td>NaN</td>\n",
       "      <td>1.0</td>\n",
       "    </tr>\n",
       "    <tr>\n",
       "      <th>1141734</th>\n",
       "      <td>HarvardX/PH525.5x/2T2018</td>\n",
       "      <td>True</td>\n",
       "      <td>False</td>\n",
       "      <td>NaN</td>\n",
       "      <td>False</td>\n",
       "      <td>False</td>\n",
       "      <td>IN</td>\n",
       "      <td>India</td>\n",
       "      <td>Asia</td>\n",
       "      <td>Anand</td>\n",
       "      <td>...</td>\n",
       "      <td>NaN</td>\n",
       "      <td>NaN</td>\n",
       "      <td>NaN</td>\n",
       "      <td>NaN</td>\n",
       "      <td>NaN</td>\n",
       "      <td>NaN</td>\n",
       "      <td>NaN</td>\n",
       "      <td>NaN</td>\n",
       "      <td>NaN</td>\n",
       "      <td>1.0</td>\n",
       "    </tr>\n",
       "  </tbody>\n",
       "</table>\n",
       "<p>1141735 rows × 82 columns</p>\n",
       "</div>"
      ],
      "text/plain": [
       "                        course_id  registered  viewed explored  certified  \\\n",
       "0        HarvardX/PH525.1x/1T2018        True   False      NaN      False   \n",
       "1        HarvardX/PH525.1x/1T2018        True    True     True      False   \n",
       "2        HarvardX/PH525.1x/1T2018        True    True    False      False   \n",
       "3        HarvardX/PH525.1x/1T2018        True    True    False      False   \n",
       "4        HarvardX/PH525.1x/1T2018        True    True     True      False   \n",
       "...                           ...         ...     ...      ...        ...   \n",
       "1141730  HarvardX/PH525.5x/2T2018        True   False      NaN      False   \n",
       "1141731  HarvardX/PH525.5x/2T2018        True   False      NaN      False   \n",
       "1141732  HarvardX/PH525.5x/2T2018        True   False      NaN      False   \n",
       "1141733  HarvardX/PH525.5x/2T2018        True   False      NaN      False   \n",
       "1141734  HarvardX/PH525.5x/2T2018        True   False      NaN      False   \n",
       "\n",
       "         completed cc_by_ip    countryLabel      continent  \\\n",
       "0            False       GB  United Kingdom         Europe   \n",
       "1            False       US   United States       Americas   \n",
       "2            False       NA              NA             NA   \n",
       "3            False       US   United States  North America   \n",
       "4            False       HU         Hungary         Europe   \n",
       "...            ...      ...             ...            ...   \n",
       "1141730      False       NA              NA             NA   \n",
       "1141731      False       IN           India           Asia   \n",
       "1141732      False       CN           China           Asia   \n",
       "1141733      False       BR          Brazil       Americas   \n",
       "1141734      False       IN           India           Asia   \n",
       "\n",
       "                        city  ... roles_isInstructor roles_isStaff  \\\n",
       "0              Middlesbrough  ...                NaN           NaN   \n",
       "1                    Seattle  ...                NaN           NaN   \n",
       "2                         NA  ...                NaN           NaN   \n",
       "3                         NA  ...                NaN           NaN   \n",
       "4                   Budapest  ...                NaN           NaN   \n",
       "...                      ...  ...                ...           ...   \n",
       "1141730                   NA  ...                NaN           NaN   \n",
       "1141731                Delhi  ...                NaN           NaN   \n",
       "1141732              Beijing  ...                NaN           NaN   \n",
       "1141733  Almirante Tamandaré  ...                NaN           NaN   \n",
       "1141734                Anand  ...                NaN           NaN   \n",
       "\n",
       "        roles_isCCX roles_isFinance  roles_isLibrary roles_isSales  \\\n",
       "0               NaN             NaN              NaN           NaN   \n",
       "1               NaN             NaN              NaN           NaN   \n",
       "2               NaN             NaN              NaN           NaN   \n",
       "3               NaN             NaN              NaN           NaN   \n",
       "4               NaN             NaN              NaN           NaN   \n",
       "...             ...             ...              ...           ...   \n",
       "1141730         NaN             NaN              NaN           NaN   \n",
       "1141731         NaN             NaN              NaN           NaN   \n",
       "1141732         NaN             NaN              NaN           NaN   \n",
       "1141733         NaN             NaN              NaN           NaN   \n",
       "1141734         NaN             NaN              NaN           NaN   \n",
       "\n",
       "         forumRoles_isAdmin  forumRoles_isCommunityTA forumRoles_isModerator  \\\n",
       "0                       NaN                       NaN                    NaN   \n",
       "1                       NaN                       NaN                    NaN   \n",
       "2                       NaN                       NaN                    NaN   \n",
       "3                       NaN                       NaN                    NaN   \n",
       "4                       NaN                       NaN                    NaN   \n",
       "...                     ...                       ...                    ...   \n",
       "1141730                 NaN                       NaN                    NaN   \n",
       "1141731                 NaN                       NaN                    NaN   \n",
       "1141732                 NaN                       NaN                    NaN   \n",
       "1141733                 NaN                       NaN                    NaN   \n",
       "1141734                 NaN                       NaN                    NaN   \n",
       "\n",
       "        forumRoles_isStudent  \n",
       "0                        1.0  \n",
       "1                        1.0  \n",
       "2                        1.0  \n",
       "3                        1.0  \n",
       "4                        1.0  \n",
       "...                      ...  \n",
       "1141730                  1.0  \n",
       "1141731                  1.0  \n",
       "1141732                  1.0  \n",
       "1141733                  1.0  \n",
       "1141734                  1.0  \n",
       "\n",
       "[1141735 rows x 82 columns]"
      ]
     },
     "execution_count": 3,
     "metadata": {},
     "output_type": "execute_result"
    }
   ],
   "source": [
    "df = pd.read_csv('APCOMP221Pset1.csv').drop(['user_id', 'username', 'ip', \n",
    "                                             'un_major_region', 'un_economic_group', \n",
    "                                             'un_developing_nation', 'un_special_region',\n",
    "                                            'latitude', 'longitude', 'profile_country'], axis=1)\n",
    "\n",
    "na_replacements = {\n",
    "    'course_id': 'NA',\n",
    "    'cc_by_ip': 'NA',\n",
    "    'countryLabel': 'NA',\n",
    "    'continent': 'NA',\n",
    "    'city': 'NA',\n",
    "    'region': 'NA',\n",
    "    'subdivision': 'NA',\n",
    "    'postalCode': 'NA',\n",
    "    'LoE': 'NA',\n",
    "    'YoB': -1,\n",
    "    'gender': 'NA',\n",
    "    'nforum_posts': 0,\n",
    "    'nforum_votes': 0,\n",
    "    'nforum_endorsed': 0,\n",
    "    'nforum_threads': 0,\n",
    "    'nforum_comments': 0,\n",
    "    'nforum_pinned': 0,\n",
    "    'nforum_events': 0,\n",
    "    'mode': 'NA',\n",
    "    'email_domain': 'NA'\n",
    "}\n",
    "df = df.fillna(na_replacements)\n",
    "df"
   ]
  },
  {
   "cell_type": "code",
   "execution_count": 4,
   "metadata": {},
   "outputs": [
    {
     "data": {
      "text/plain": [
       "13.448304554033996"
      ]
     },
     "execution_count": 4,
     "metadata": {},
     "output_type": "execute_result"
    }
   ],
   "source": [
    "def percent_remaining(k):\n",
    "    groups = df.groupby(quasi_list).size()\n",
    "    groups_below_threshold = groups[groups < k]\n",
    "    return (1 - groups_below_threshold.sum() / df.shape[0]) * 100\n",
    "\n",
    "percent_remaining(3)\n",
    "#groups_below_threshold.sum()"
   ]
  },
  {
   "cell_type": "code",
   "execution_count": 5,
   "metadata": {},
   "outputs": [
    {
     "data": {
      "text/plain": [
       "11.527018090887985"
      ]
     },
     "execution_count": 5,
     "metadata": {},
     "output_type": "execute_result"
    }
   ],
   "source": [
    "percent_remaining(4)"
   ]
  },
  {
   "cell_type": "code",
   "execution_count": 6,
   "metadata": {},
   "outputs": [
    {
     "data": {
      "text/plain": [
       "10.348110551047307"
      ]
     },
     "execution_count": 6,
     "metadata": {},
     "output_type": "execute_result"
    }
   ],
   "source": [
    "percent_remaining(5)"
   ]
  },
  {
   "cell_type": "markdown",
   "metadata": {},
   "source": [
    "### Part 2"
   ]
  },
  {
   "cell_type": "code",
   "execution_count": 82,
   "metadata": {},
   "outputs": [
    {
     "name": "stdout",
     "output_type": "stream",
     "text": [
      "Total completion rate: 2.4648\n"
     ]
    }
   ],
   "source": [
    "completion_counts = df['completed'].value_counts(dropna=False)\n",
    "print(f'Total completion rate: {completion_counts[True] / df.shape[0] * 100:.5}')"
   ]
  },
  {
   "cell_type": "code",
   "execution_count": 95,
   "metadata": {},
   "outputs": [
    {
     "data": {
      "text/plain": [
       "False    1141735\n",
       "Name: course_id, dtype: int64"
      ]
     },
     "execution_count": 95,
     "metadata": {},
     "output_type": "execute_result"
    }
   ],
   "source": [
    "groups = df.groupby(quasi_list).size()\n",
    "groups_meeting_threshold = groups[groups >= k]\n",
    "\n",
    "#return (1 - groups_below_threshold.sum() / df.shape[0]) * 100"
   ]
  },
  {
   "cell_type": "markdown",
   "metadata": {},
   "source": [
    "## TODO"
   ]
  },
  {
   "cell_type": "code",
   "execution_count": 97,
   "metadata": {},
   "outputs": [
    {
     "data": {
      "text/plain": [
       "('HarvardX/1368.1x/2T2016',\n",
       " 'NA',\n",
       " 'NA',\n",
       " 'NA',\n",
       " 'NA',\n",
       " 'NA',\n",
       " 'NA',\n",
       " 'NA',\n",
       " 'NA',\n",
       " -1.0,\n",
       " 'NA',\n",
       " 0.0,\n",
       " 0.0,\n",
       " 0.0,\n",
       " 0.0,\n",
       " 0.0,\n",
       " 0.0,\n",
       " 0.0,\n",
       " 'honor',\n",
       " 'gmail.com')"
      ]
     },
     "execution_count": 97,
     "metadata": {},
     "output_type": "execute_result"
    }
   ],
   "source": [
    "groups_meeting_threshold.index[0]"
   ]
  },
  {
   "cell_type": "markdown",
   "metadata": {},
   "source": [
    "## Question 4"
   ]
  },
  {
   "cell_type": "code",
   "execution_count": 104,
   "metadata": {},
   "outputs": [],
   "source": [
    "def n_synthetic_required_for(k):\n",
    "    groups = df.groupby(quasi_list).size()\n",
    "    groups_below_threshold = groups[groups < k]\n",
    "    return (k - groups_below_threshold).sum()"
   ]
  },
  {
   "cell_type": "code",
   "execution_count": 105,
   "metadata": {},
   "outputs": [
    {
     "data": {
      "text/plain": [
       "3837543"
      ]
     },
     "execution_count": 105,
     "metadata": {},
     "output_type": "execute_result"
    }
   ],
   "source": [
    "n_synthetic_required_for(5)"
   ]
  },
  {
   "cell_type": "code",
   "execution_count": 108,
   "metadata": {},
   "outputs": [],
   "source": [
    "import random"
   ]
  },
  {
   "cell_type": "code",
   "execution_count": 139,
   "metadata": {
    "collapsed": true,
    "jupyter": {
     "outputs_hidden": true
    }
   },
   "outputs": [
    {
     "data": {
      "text/plain": [
       "{'US': 308402,\n",
       " 'NA': 184426,\n",
       " 'IN': 77301,\n",
       " 'GB': 40781,\n",
       " 'BR': 38065,\n",
       " 'CA': 36779,\n",
       " 'CN': 25987,\n",
       " 'AU': 20788,\n",
       " 'DE': 18388,\n",
       " 'MX': 18350,\n",
       " 'ES': 16420,\n",
       " 'FR': 14932,\n",
       " 'CO': 12049,\n",
       " 'RU': 11443,\n",
       " 'NL': 10775,\n",
       " 'TR': 10220,\n",
       " 'PK': 9650,\n",
       " 'EG': 9464,\n",
       " 'GR': 9043,\n",
       " 'PH': 8837,\n",
       " 'JP': 8688,\n",
       " 'SG': 8635,\n",
       " 'NG': 8515,\n",
       " 'IT': 8221,\n",
       " 'KR': 8001,\n",
       " 'ID': 7901,\n",
       " 'HK': 7753,\n",
       " 'PL': 7569,\n",
       " 'UA': 7143,\n",
       " 'TW': 6798,\n",
       " 'PE': 6416,\n",
       " 'VN': 6030,\n",
       " 'AR': 5990,\n",
       " 'ZA': 5342,\n",
       " 'CL': 5299,\n",
       " 'MY': 5288,\n",
       " 'BE': 5280,\n",
       " 'PT': 5273,\n",
       " 'RO': 5140,\n",
       " 'CH': 4539,\n",
       " 'SA': 4485,\n",
       " 'SE': 4414,\n",
       " 'TH': 4356,\n",
       " 'AE': 3952,\n",
       " 'IE': 3909,\n",
       " 'MA': 3589,\n",
       " 'NZ': 3510,\n",
       " 'IL': 3258,\n",
       " 'BD': 3041,\n",
       " 'KE': 2900,\n",
       " 'DK': 2820,\n",
       " 'NO': 2771,\n",
       " 'AT': 2765,\n",
       " 'HU': 2726,\n",
       " 'EC': 2712,\n",
       " 'GH': 2683,\n",
       " 'CZ': 2534,\n",
       " 'RS': 2506,\n",
       " 'IR': 2275,\n",
       " 'FI': 2084,\n",
       " 'VE': 1946,\n",
       " 'BG': 1919,\n",
       " 'NP': 1817,\n",
       " 'DZ': 1729,\n",
       " 'CR': 1694,\n",
       " 'HR': 1532,\n",
       " 'LK': 1531,\n",
       " 'LT': 1355,\n",
       " 'DO': 1344,\n",
       " 'TN': 1302,\n",
       " 'PR': 1190,\n",
       " 'UG': 1178,\n",
       " 'ET': 1156,\n",
       " 'GT': 1155,\n",
       " 'JO': 1151,\n",
       " 'AL': 1127,\n",
       " 'LB': 1096,\n",
       " 'BO': 1054,\n",
       " 'SD': 1008,\n",
       " 'BY': 998,\n",
       " 'KZ': 991,\n",
       " 'QA': 987,\n",
       " 'SI': 933,\n",
       " 'SK': 930,\n",
       " 'GE': 918,\n",
       " 'EE': 890,\n",
       " 'MN': 884,\n",
       " 'UY': 842,\n",
       " 'JM': 842,\n",
       " 'TT': 805,\n",
       " 'SV': 777,\n",
       " 'TZ': 762,\n",
       " 'LV': 732,\n",
       " 'HT': 714,\n",
       " 'PA': 690,\n",
       " 'CM': 682,\n",
       " 'AZ': 678,\n",
       " 'IQ': 677,\n",
       " 'MU': 666,\n",
       " 'BA': 647,\n",
       " 'ZW': 639,\n",
       " 'HN': 637,\n",
       " 'AM': 634,\n",
       " 'RW': 629,\n",
       " 'SY': 616,\n",
       " 'MM': 615,\n",
       " 'ZM': 612,\n",
       " 'PY': 592,\n",
       " 'CY': 585,\n",
       " 'KW': 564,\n",
       " 'MK': 523,\n",
       " 'KH': 508,\n",
       " 'OM': 491,\n",
       " 'MD': 444,\n",
       " 'BH': 426,\n",
       " 'PS': 418,\n",
       " 'UZ': 378,\n",
       " 'LU': 376,\n",
       " 'NI': 364,\n",
       " 'IS': 321,\n",
       " 'CI': 318,\n",
       " 'YE': 306,\n",
       " 'MT': 301,\n",
       " 'SO': 297,\n",
       " 'SN': 295,\n",
       " 'MO': 277,\n",
       " 'BW': 276,\n",
       " 'KG': 274,\n",
       " 'MW': 271,\n",
       " 'MZ': 258,\n",
       " 'GY': 232,\n",
       " 'AF': 229,\n",
       " 'BS': 221,\n",
       " 'LY': 212,\n",
       " 'MG': 201,\n",
       " 'BB': 201,\n",
       " 'FJ': 183,\n",
       " 'AO': 177,\n",
       " 'CD': 170,\n",
       " 'ME': 165,\n",
       " 'MV': 164,\n",
       " 'BF': 162,\n",
       " 'BZ': 142,\n",
       " 'SL': 142,\n",
       " 'GM': 141,\n",
       " 'BN': 138,\n",
       " 'PG': 116,\n",
       " 'CU': 116,\n",
       " 'SR': 104,\n",
       " 'BJ': 103,\n",
       " 'LR': 101,\n",
       " 'LA': 101,\n",
       " 'BT': 96,\n",
       " 'LC': 96,\n",
       " 'GU': 96,\n",
       " 'CW': 91,\n",
       " 'LS': 80,\n",
       " 'RE': 78,\n",
       " 'DJ': 76,\n",
       " 'AG': 75,\n",
       " 'KY': 74,\n",
       " 'GN': 72,\n",
       " 'GD': 68,\n",
       " 'BM': 65,\n",
       " 'SZ': 65,\n",
       " 'BI': 63,\n",
       " 'TG': 61,\n",
       " 'GA': 61,\n",
       " 'TJ': 56,\n",
       " 'ML': 56,\n",
       " 'NE': 54,\n",
       " 'JE': 50,\n",
       " 'CV': 49,\n",
       " 'DM': 46,\n",
       " 'SS': 44,\n",
       " 'AW': 38,\n",
       " 'IM': 38,\n",
       " 'VI': 37,\n",
       " 'KN': 37,\n",
       " 'VC': 37,\n",
       " 'SB': 37,\n",
       " 'MC': 36,\n",
       " 'MR': 34,\n",
       " 'VU': 32,\n",
       " 'AD': 30,\n",
       " 'GP': 29,\n",
       " 'MP': 28,\n",
       " 'CG': 28,\n",
       " 'SC': 27,\n",
       " 'PF': 26,\n",
       " 'GG': 24,\n",
       " 'VG': 23,\n",
       " 'MQ': 22,\n",
       " 'NC': 20,\n",
       " 'TC': 17,\n",
       " 'GI': 17,\n",
       " 'AS': 17,\n",
       " 'GQ': 16,\n",
       " 'TM': 14,\n",
       " 'FO': 14,\n",
       " 'GF': 14,\n",
       " 'TL': 13,\n",
       " 'FM': 13,\n",
       " 'AI': 13,\n",
       " 'BQ': 11,\n",
       " 'TD': 11,\n",
       " 'LI': 10,\n",
       " 'TO': 10,\n",
       " 'MH': 9,\n",
       " 'WS': 9,\n",
       " 'GL': 8,\n",
       " 'CF': 7,\n",
       " 'KI': 7,\n",
       " 'SX': 7,\n",
       " 'ER': 6,\n",
       " 'KM': 5,\n",
       " 'AX': 4,\n",
       " 'MS': 4,\n",
       " 'GW': 4,\n",
       " 'YT': 3,\n",
       " 'PW': 3,\n",
       " 'NR': 3,\n",
       " 'ST': 2,\n",
       " 'AQ': 1,\n",
       " 'FK': 1,\n",
       " 'SM': 1}"
      ]
     },
     "execution_count": 139,
     "metadata": {},
     "output_type": "execute_result"
    }
   ],
   "source": [
    "col_counts = df['cc_by_ip'].value_counts().to_dict()\n",
    "col_counts"
   ]
  },
  {
   "cell_type": "code",
   "execution_count": 119,
   "metadata": {},
   "outputs": [
    {
     "data": {
      "text/plain": [
       "US    297305\n",
       "NA    178095\n",
       "IN     74130\n",
       "GB     39360\n",
       "BR     36850\n",
       "       ...  \n",
       "PW         3\n",
       "AX         2\n",
       "FK         1\n",
       "ST         1\n",
       "SM         1\n",
       "Length: 224, dtype: int64"
      ]
     },
     "execution_count": 119,
     "metadata": {},
     "output_type": "execute_result"
    }
   ],
   "source": [
    "pd.Series(random.choices(col_counts.index.values, weights=col_counts.values, k=int(1.1e6))).value_counts()"
   ]
  },
  {
   "cell_type": "markdown",
   "metadata": {},
   "source": [
    "## Question 5\n",
    "\n",
    "We've decided to do generalization on each of the quasi-identifiers first, and then suppress any additional records that need it. This isn't a particularly sophisticated technique, and it's certainly not the optimization that was performed in Angiuli and Waldo's \"Statistical Tradeoffs ...\".\n",
    "\n",
    "Here are the generalization strategies we're using:\n",
    "  * Drop `cc_by_ip` as it's largely redundant with `countryLabel`\n",
    "  * Starting with the most specific, set any geographic field with fewer than 5000 records to \"NA\"\n",
    "  * Change `YoB` to `birth_decade` which is the first three digits of the year\n",
    "  * Change all the `nforum` varibles to booleans indicating whether they are greater than zero\n",
    "  * Change `email_domain` to only the first three letters\n",
    "  * Change `LoE` to `attended_college`; a boolean indicating if the student went to college\n",
    "  \n",
    "Changing the names of some of these attributes means we need a new set of quasi-identifiers to work from:"
   ]
  },
  {
   "cell_type": "code",
   "execution_count": 82,
   "metadata": {},
   "outputs": [],
   "source": [
    "GENERALIZED_QUASI_IDS = [\n",
    "    'postalCode',\n",
    "    'city',\n",
    "    'subdivision',\n",
    "    'region',\n",
    "    'countryLabel',\n",
    "    'continent',\n",
    "    'email_domain',\n",
    "    'course_id',\n",
    "    'mode',\n",
    "    'gender',\n",
    "    'nforum_posts_>0',\n",
    "    'nforum_votes_>0',\n",
    "    'nforum_endorsed_>0',\n",
    "    'nforum_threads_>0',\n",
    "    'nforum_comments_>0',\n",
    "    'nforum_pinned_>0',\n",
    "    'nforum_events_>0',\n",
    "    'birth_decade',\n",
    "    'attended_college'\n",
    "]"
   ]
  },
  {
   "cell_type": "markdown",
   "metadata": {},
   "source": [
    "### Useful Functions\n",
    "\n",
    "Here we write all our functions for generalization, suppression, and presentation of results."
   ]
  },
  {
   "cell_type": "code",
   "execution_count": 83,
   "metadata": {},
   "outputs": [],
   "source": [
    "def generalize_geo(df, min_per_geo=5000):\n",
    "    g = df.copy()\n",
    "    GEO_HIERARCHY = [\n",
    "        'postalCode',\n",
    "        'city',\n",
    "        'subdivision',\n",
    "        'region',\n",
    "        'countryLabel',\n",
    "        'continent']\n",
    "    g = g.drop('cc_by_ip', axis=1)\n",
    "    for field in GEO_HIERARCHY:\n",
    "        value_counts = g[field].value_counts()\n",
    "        values_to_drop = set(value_counts[value_counts < min_per_geo].index.values)\n",
    "        g.loc[g[field].isin(values_to_drop), field] = na_replacements[field]\n",
    "    return g"
   ]
  },
  {
   "cell_type": "code",
   "execution_count": 84,
   "metadata": {},
   "outputs": [],
   "source": [
    "def generalize_education(df):\n",
    "    g = df.copy()\n",
    "    # Associate is sometimes not included as college, but we are including it.\n",
    "    college_levels = set(['p', 'p_se', 'p_oth', 'm', 'b', 'a'])\n",
    "    g['attended_college'] = g['LoE'].isin(college_levels)\n",
    "    return g.drop('LoE', axis=1)"
   ]
  },
  {
   "cell_type": "code",
   "execution_count": 85,
   "metadata": {},
   "outputs": [],
   "source": [
    "def generalize_birth_year(df):\n",
    "    g = df.copy()\n",
    "    g['birth_decade'] = df['YoB'].apply(lambda y: str(y)[:3] + '*' if y>-1 else 'NA')\n",
    "    return g.drop('YoB', axis=1)"
   ]
  },
  {
   "cell_type": "code",
   "execution_count": 86,
   "metadata": {},
   "outputs": [],
   "source": [
    "def generalize_forum_actions(df):\n",
    "    g = df.copy()\n",
    "    fields = ['nforum_posts',\n",
    "        'nforum_votes',\n",
    "        'nforum_endorsed',\n",
    "        'nforum_threads',\n",
    "        'nforum_comments',\n",
    "        'nforum_pinned',\n",
    "        'nforum_events']\n",
    "    for field in fields:\n",
    "        g[field + '_>0'] = g[field] > 0\n",
    "        g = g.drop(field, axis=1)\n",
    "    return g"
   ]
  },
  {
   "cell_type": "code",
   "execution_count": 87,
   "metadata": {},
   "outputs": [],
   "source": [
    "def generalize_email_domains(df):\n",
    "    g = df.copy()\n",
    "    g['email_domain'] = g['email_domain'].apply(lambda e: e[:3] + '*')\n",
    "    return g"
   ]
  },
  {
   "cell_type": "code",
   "execution_count": 88,
   "metadata": {},
   "outputs": [],
   "source": [
    "def generalize_df(df):\n",
    "    return generalize_geo(\n",
    "        generalize_birth_year(\n",
    "        generalize_education(\n",
    "        generalize_email_domains(\n",
    "        generalize_forum_actions(df)))))"
   ]
  },
  {
   "cell_type": "code",
   "execution_count": 111,
   "metadata": {},
   "outputs": [],
   "source": [
    "def suppress_to_k_anonymize(df, k):\n",
    "    return df.groupby(GENERALIZED_QUASI_IDS).filter(lambda g: g.shape[0] >= k)"
   ]
  },
  {
   "cell_type": "code",
   "execution_count": 73,
   "metadata": {},
   "outputs": [],
   "source": [
    "def status_count(df, status):\n",
    "    return df.query(status + ' == True').shape[0]\n",
    "\n",
    "def status_proportion(df, status):\n",
    "    return status_count(df, status) / df.shape[0] * 100\n",
    "\n",
    "def print_status_stats(df):\n",
    "    print(f'Total students: {df.shape[0]}\\n'\n",
    "          f'Students explored: {status_count(df, \"explored\")}'\n",
    "          f' - {status_proportion(df, \"explored\"):.2f}%\\n'\n",
    "          f'Students completed: {status_count(df, \"completed\")}'\n",
    "          f' - {status_proportion(df, \"completed\"):.2f}%')"
   ]
  },
  {
   "cell_type": "markdown",
   "metadata": {},
   "source": [
    "### Raw Dataset Stats"
   ]
  },
  {
   "cell_type": "code",
   "execution_count": 75,
   "metadata": {},
   "outputs": [
    {
     "name": "stdout",
     "output_type": "stream",
     "text": [
      "Total students: 1141735\n",
      "Students explored: 122258 - 10.71%\n",
      "Students completed: 28142 - 2.46%\n"
     ]
    }
   ],
   "source": [
    "print_status_stats(df)"
   ]
  },
  {
   "cell_type": "markdown",
   "metadata": {},
   "source": [
    "### 3-Anonymous Results"
   ]
  },
  {
   "cell_type": "code",
   "execution_count": null,
   "metadata": {},
   "outputs": [],
   "source": [
    "generalized = generalize_df(df)"
   ]
  },
  {
   "cell_type": "code",
   "execution_count": 112,
   "metadata": {},
   "outputs": [],
   "source": [
    "k3_df = suppress_to_k_anonymize(generalized, 3)"
   ]
  },
  {
   "cell_type": "code",
   "execution_count": 114,
   "metadata": {},
   "outputs": [
    {
     "name": "stdout",
     "output_type": "stream",
     "text": [
      "Total students: 596580\n",
      "Students explored: 41138 - 6.90%\n",
      "Students completed: 4120 - 0.69%\n"
     ]
    }
   ],
   "source": [
    "print_status_stats(k3_df)"
   ]
  },
  {
   "cell_type": "markdown",
   "metadata": {},
   "source": [
    "### 4-Anonymous Results"
   ]
  },
  {
   "cell_type": "code",
   "execution_count": 115,
   "metadata": {},
   "outputs": [],
   "source": [
    "k4_df = suppress_to_k_anonymize(generalized, 4)"
   ]
  },
  {
   "cell_type": "code",
   "execution_count": 116,
   "metadata": {},
   "outputs": [
    {
     "name": "stdout",
     "output_type": "stream",
     "text": [
      "Total students: 531984\n",
      "Students explored: 34513 - 6.49%\n",
      "Students completed: 3102 - 0.58%\n"
     ]
    }
   ],
   "source": [
    "print_status_stats(k4_df)"
   ]
  },
  {
   "cell_type": "markdown",
   "metadata": {},
   "source": [
    "### 5-Anonymous Results"
   ]
  },
  {
   "cell_type": "code",
   "execution_count": 118,
   "metadata": {},
   "outputs": [],
   "source": [
    "k5_df = suppress_to_k_anonymize(generalized, 5)"
   ]
  },
  {
   "cell_type": "code",
   "execution_count": 119,
   "metadata": {},
   "outputs": [
    {
     "name": "stdout",
     "output_type": "stream",
     "text": [
      "Total students: 487536\n",
      "Students explored: 30230 - 6.20%\n",
      "Students completed: 2492 - 0.51%\n"
     ]
    }
   ],
   "source": [
    "print_status_stats(k5_df)"
   ]
  },
  {
   "cell_type": "markdown",
   "metadata": {},
   "source": [
    "### Observations\n",
    "\n",
    "We can see that there's a steep dropoff in the number and proportion of students that completed and explored the class between the raw dataset and the 3-anonymous set. Specifically, in the raw data 2.46% of students completed, whereas in the 3-anonymous dataset, only 0.69% of students completed. As we increase the level of k-anonymity, there are fewer students overall and the proportion of students that completed and explored continues to drop off. This demonstrates that making a dataset k-anonymous may seriously impact the statistical validity of the dataset."
   ]
  },
  {
   "cell_type": "markdown",
   "metadata": {},
   "source": [
    "## Question 6"
   ]
  },
  {
   "cell_type": "markdown",
   "metadata": {},
   "source": [
    "After reviewing all the field, we believe the following could be sensitive: `completed`, `grade`, `nproblem_check`, `nshow_answer`, `cert_status`. To check for the l-diversity, we're taking the minimum number of unique values per field for each quasi-identifier group."
   ]
  },
  {
   "cell_type": "code",
   "execution_count": 120,
   "metadata": {},
   "outputs": [],
   "source": [
    "def calc_l_diversity(df, field):\n",
    "    return df.groupby(GENERALIZED_QUASI_IDS).apply(lambda g: g[field].nunique(dropna=False)).min()"
   ]
  },
  {
   "cell_type": "code",
   "execution_count": 122,
   "metadata": {},
   "outputs": [],
   "source": [
    "sensitive_fields = ['completed', 'grade', 'nproblem_check', 'nshow_answer', 'cert_status']\n",
    "k3_l_diversity = {field: calc_l_diversity(k3_df, field) for field in sensitive_fields}\n",
    "k4_l_diversity = {field: calc_l_diversity(k4_df, field) for field in sensitive_fields}\n",
    "k5_l_diversity = {field: calc_l_diversity(k5_df, field) for field in sensitive_fields}"
   ]
  },
  {
   "cell_type": "markdown",
   "metadata": {},
   "source": [
    "### 3-Anonymous l-diversity Results"
   ]
  },
  {
   "cell_type": "code",
   "execution_count": 123,
   "metadata": {},
   "outputs": [
    {
     "data": {
      "text/plain": [
       "{'completed': 1,\n",
       " 'grade': 1,\n",
       " 'nproblem_check': 1,\n",
       " 'nshow_answer': 1,\n",
       " 'cert_status': 1}"
      ]
     },
     "execution_count": 123,
     "metadata": {},
     "output_type": "execute_result"
    }
   ],
   "source": [
    "k3_l_diversity"
   ]
  },
  {
   "cell_type": "markdown",
   "metadata": {},
   "source": [
    "### 4-Anonymous l-diversity Results"
   ]
  },
  {
   "cell_type": "code",
   "execution_count": 124,
   "metadata": {},
   "outputs": [
    {
     "data": {
      "text/plain": [
       "{'completed': 1,\n",
       " 'grade': 1,\n",
       " 'nproblem_check': 1,\n",
       " 'nshow_answer': 1,\n",
       " 'cert_status': 1}"
      ]
     },
     "execution_count": 124,
     "metadata": {},
     "output_type": "execute_result"
    }
   ],
   "source": [
    "k4_l_diversity"
   ]
  },
  {
   "cell_type": "markdown",
   "metadata": {},
   "source": [
    "### 5-Anonymous l-diversity Results"
   ]
  },
  {
   "cell_type": "code",
   "execution_count": 125,
   "metadata": {},
   "outputs": [
    {
     "data": {
      "text/plain": [
       "{'completed': 1,\n",
       " 'grade': 1,\n",
       " 'nproblem_check': 1,\n",
       " 'nshow_answer': 1,\n",
       " 'cert_status': 1}"
      ]
     },
     "execution_count": 125,
     "metadata": {},
     "output_type": "execute_result"
    }
   ],
   "source": [
    "k5_l_diversity"
   ]
  },
  {
   "cell_type": "markdown",
   "metadata": {},
   "source": [
    "### Observations\n",
    "\n",
    "From the above results, we can see that after all our work, none of our datasets rise above 1-diversity for any of the fields we consider sensitive. The improve this, we would need to either consider suppressing entire quasi-identifier columns or creating synthetic records to add diversity to each quasi-identifier group."
   ]
  }
 ],
 "metadata": {
  "kernelspec": {
   "display_name": "Python 3",
   "language": "python",
   "name": "python3"
  },
  "language_info": {
   "codemirror_mode": {
    "name": "ipython",
    "version": 3
   },
   "file_extension": ".py",
   "mimetype": "text/x-python",
   "name": "python",
   "nbconvert_exporter": "python",
   "pygments_lexer": "ipython3",
   "version": "3.8.1"
  }
 },
 "nbformat": 4,
 "nbformat_minor": 4
}

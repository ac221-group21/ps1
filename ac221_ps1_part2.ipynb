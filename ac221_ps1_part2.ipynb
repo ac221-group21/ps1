{
 "cells": [
  {
   "cell_type": "markdown",
   "metadata": {},
   "source": [
    "# AC 221: Critical Thinking in Data Science\n",
    "\n",
    "## Problem Set 1, Part 2\n",
    "**February 27, 2020**<br/>\n",
    "**Harvard University**<br/>\n",
    "**Spring 2020**<br/>\n",
    "\n",
    "<hr style=\"height:2pt\">"
   ]
  },
  {
   "cell_type": "code",
   "execution_count": 12,
   "metadata": {},
   "outputs": [],
   "source": [
    "import pandas as pd\n",
    "import numpy as np\n",
    "import matplotlib.pyplot as plt"
   ]
  },
  {
   "cell_type": "code",
   "execution_count": 28,
   "metadata": {},
   "outputs": [
    {
     "data": {
      "text/plain": [
       "['course_id',\n",
       " 'cc_by_ip',\n",
       " 'countryLabel',\n",
       " 'continent',\n",
       " 'city',\n",
       " 'region',\n",
       " 'subdivision',\n",
       " 'postalCode',\n",
       " 'LoE',\n",
       " 'YoB',\n",
       " 'gender',\n",
       " 'nforum_posts',\n",
       " 'nforum_votes',\n",
       " 'nforum_endorsed',\n",
       " 'nforum_threads',\n",
       " 'nforum_comments',\n",
       " 'nforum_pinned',\n",
       " 'nforum_events',\n",
       " 'mode',\n",
       " 'email_domain']"
      ]
     },
     "execution_count": 28,
     "metadata": {},
     "output_type": "execute_result"
    }
   ],
   "source": [
    "quasi = pd.read_csv('data/final_quasi-identifiers.csv')\n",
    "quasi_list = list(quasi['variable'].values)\n",
    "\n",
    "# Drop user_id\n",
    "quasi_list.pop(1)"
   ]
  },
  {
   "cell_type": "code",
   "execution_count": 125,
   "metadata": {},
   "outputs": [
    {
     "name": "stderr",
     "output_type": "stream",
     "text": [
      "/home/justin/miniconda3/envs/ac221/lib/python3.8/site-packages/IPython/core/interactiveshell.py:3062: DtypeWarning: Columns (49,50,64) have mixed types.Specify dtype option on import or set low_memory=False.\n",
      "  has_raised = await self.run_ast_nodes(code_ast.body, cell_name,\n"
     ]
    },
    {
     "data": {
      "text/html": [
       "<div>\n",
       "<style scoped>\n",
       "    .dataframe tbody tr th:only-of-type {\n",
       "        vertical-align: middle;\n",
       "    }\n",
       "\n",
       "    .dataframe tbody tr th {\n",
       "        vertical-align: top;\n",
       "    }\n",
       "\n",
       "    .dataframe thead th {\n",
       "        text-align: right;\n",
       "    }\n",
       "</style>\n",
       "<table border=\"1\" class=\"dataframe\">\n",
       "  <thead>\n",
       "    <tr style=\"text-align: right;\">\n",
       "      <th></th>\n",
       "      <th>course_id</th>\n",
       "      <th>registered</th>\n",
       "      <th>viewed</th>\n",
       "      <th>explored</th>\n",
       "      <th>certified</th>\n",
       "      <th>completed</th>\n",
       "      <th>cc_by_ip</th>\n",
       "      <th>countryLabel</th>\n",
       "      <th>continent</th>\n",
       "      <th>city</th>\n",
       "      <th>...</th>\n",
       "      <th>roles_isInstructor</th>\n",
       "      <th>roles_isStaff</th>\n",
       "      <th>roles_isCCX</th>\n",
       "      <th>roles_isFinance</th>\n",
       "      <th>roles_isLibrary</th>\n",
       "      <th>roles_isSales</th>\n",
       "      <th>forumRoles_isAdmin</th>\n",
       "      <th>forumRoles_isCommunityTA</th>\n",
       "      <th>forumRoles_isModerator</th>\n",
       "      <th>forumRoles_isStudent</th>\n",
       "    </tr>\n",
       "  </thead>\n",
       "  <tbody>\n",
       "    <tr>\n",
       "      <th>0</th>\n",
       "      <td>HarvardX/PH525.1x/1T2018</td>\n",
       "      <td>True</td>\n",
       "      <td>False</td>\n",
       "      <td>NaN</td>\n",
       "      <td>False</td>\n",
       "      <td>False</td>\n",
       "      <td>GB</td>\n",
       "      <td>United Kingdom</td>\n",
       "      <td>Europe</td>\n",
       "      <td>Middlesbrough</td>\n",
       "      <td>...</td>\n",
       "      <td>NaN</td>\n",
       "      <td>NaN</td>\n",
       "      <td>NaN</td>\n",
       "      <td>NaN</td>\n",
       "      <td>NaN</td>\n",
       "      <td>NaN</td>\n",
       "      <td>NaN</td>\n",
       "      <td>NaN</td>\n",
       "      <td>NaN</td>\n",
       "      <td>1.0</td>\n",
       "    </tr>\n",
       "    <tr>\n",
       "      <th>1</th>\n",
       "      <td>HarvardX/PH525.1x/1T2018</td>\n",
       "      <td>True</td>\n",
       "      <td>True</td>\n",
       "      <td>True</td>\n",
       "      <td>False</td>\n",
       "      <td>False</td>\n",
       "      <td>US</td>\n",
       "      <td>United States</td>\n",
       "      <td>Americas</td>\n",
       "      <td>Seattle</td>\n",
       "      <td>...</td>\n",
       "      <td>NaN</td>\n",
       "      <td>NaN</td>\n",
       "      <td>NaN</td>\n",
       "      <td>NaN</td>\n",
       "      <td>NaN</td>\n",
       "      <td>NaN</td>\n",
       "      <td>NaN</td>\n",
       "      <td>NaN</td>\n",
       "      <td>NaN</td>\n",
       "      <td>1.0</td>\n",
       "    </tr>\n",
       "    <tr>\n",
       "      <th>2</th>\n",
       "      <td>HarvardX/PH525.1x/1T2018</td>\n",
       "      <td>True</td>\n",
       "      <td>True</td>\n",
       "      <td>False</td>\n",
       "      <td>False</td>\n",
       "      <td>False</td>\n",
       "      <td>NA</td>\n",
       "      <td>NA</td>\n",
       "      <td>NA</td>\n",
       "      <td>NA</td>\n",
       "      <td>...</td>\n",
       "      <td>NaN</td>\n",
       "      <td>NaN</td>\n",
       "      <td>NaN</td>\n",
       "      <td>NaN</td>\n",
       "      <td>NaN</td>\n",
       "      <td>NaN</td>\n",
       "      <td>NaN</td>\n",
       "      <td>NaN</td>\n",
       "      <td>NaN</td>\n",
       "      <td>1.0</td>\n",
       "    </tr>\n",
       "    <tr>\n",
       "      <th>3</th>\n",
       "      <td>HarvardX/PH525.1x/1T2018</td>\n",
       "      <td>True</td>\n",
       "      <td>True</td>\n",
       "      <td>False</td>\n",
       "      <td>False</td>\n",
       "      <td>False</td>\n",
       "      <td>US</td>\n",
       "      <td>United States</td>\n",
       "      <td>North America</td>\n",
       "      <td>NA</td>\n",
       "      <td>...</td>\n",
       "      <td>NaN</td>\n",
       "      <td>NaN</td>\n",
       "      <td>NaN</td>\n",
       "      <td>NaN</td>\n",
       "      <td>NaN</td>\n",
       "      <td>NaN</td>\n",
       "      <td>NaN</td>\n",
       "      <td>NaN</td>\n",
       "      <td>NaN</td>\n",
       "      <td>1.0</td>\n",
       "    </tr>\n",
       "    <tr>\n",
       "      <th>4</th>\n",
       "      <td>HarvardX/PH525.1x/1T2018</td>\n",
       "      <td>True</td>\n",
       "      <td>True</td>\n",
       "      <td>True</td>\n",
       "      <td>False</td>\n",
       "      <td>False</td>\n",
       "      <td>HU</td>\n",
       "      <td>Hungary</td>\n",
       "      <td>Europe</td>\n",
       "      <td>Budapest</td>\n",
       "      <td>...</td>\n",
       "      <td>NaN</td>\n",
       "      <td>NaN</td>\n",
       "      <td>NaN</td>\n",
       "      <td>NaN</td>\n",
       "      <td>NaN</td>\n",
       "      <td>NaN</td>\n",
       "      <td>NaN</td>\n",
       "      <td>NaN</td>\n",
       "      <td>NaN</td>\n",
       "      <td>1.0</td>\n",
       "    </tr>\n",
       "    <tr>\n",
       "      <th>...</th>\n",
       "      <td>...</td>\n",
       "      <td>...</td>\n",
       "      <td>...</td>\n",
       "      <td>...</td>\n",
       "      <td>...</td>\n",
       "      <td>...</td>\n",
       "      <td>...</td>\n",
       "      <td>...</td>\n",
       "      <td>...</td>\n",
       "      <td>...</td>\n",
       "      <td>...</td>\n",
       "      <td>...</td>\n",
       "      <td>...</td>\n",
       "      <td>...</td>\n",
       "      <td>...</td>\n",
       "      <td>...</td>\n",
       "      <td>...</td>\n",
       "      <td>...</td>\n",
       "      <td>...</td>\n",
       "      <td>...</td>\n",
       "      <td>...</td>\n",
       "    </tr>\n",
       "    <tr>\n",
       "      <th>1141730</th>\n",
       "      <td>HarvardX/PH525.5x/2T2018</td>\n",
       "      <td>True</td>\n",
       "      <td>False</td>\n",
       "      <td>NaN</td>\n",
       "      <td>False</td>\n",
       "      <td>False</td>\n",
       "      <td>NA</td>\n",
       "      <td>NA</td>\n",
       "      <td>NA</td>\n",
       "      <td>NA</td>\n",
       "      <td>...</td>\n",
       "      <td>NaN</td>\n",
       "      <td>NaN</td>\n",
       "      <td>NaN</td>\n",
       "      <td>NaN</td>\n",
       "      <td>NaN</td>\n",
       "      <td>NaN</td>\n",
       "      <td>NaN</td>\n",
       "      <td>NaN</td>\n",
       "      <td>NaN</td>\n",
       "      <td>1.0</td>\n",
       "    </tr>\n",
       "    <tr>\n",
       "      <th>1141731</th>\n",
       "      <td>HarvardX/PH525.5x/2T2018</td>\n",
       "      <td>True</td>\n",
       "      <td>False</td>\n",
       "      <td>NaN</td>\n",
       "      <td>False</td>\n",
       "      <td>False</td>\n",
       "      <td>IN</td>\n",
       "      <td>India</td>\n",
       "      <td>Asia</td>\n",
       "      <td>Delhi</td>\n",
       "      <td>...</td>\n",
       "      <td>NaN</td>\n",
       "      <td>NaN</td>\n",
       "      <td>NaN</td>\n",
       "      <td>NaN</td>\n",
       "      <td>NaN</td>\n",
       "      <td>NaN</td>\n",
       "      <td>NaN</td>\n",
       "      <td>NaN</td>\n",
       "      <td>NaN</td>\n",
       "      <td>1.0</td>\n",
       "    </tr>\n",
       "    <tr>\n",
       "      <th>1141732</th>\n",
       "      <td>HarvardX/PH525.5x/2T2018</td>\n",
       "      <td>True</td>\n",
       "      <td>False</td>\n",
       "      <td>NaN</td>\n",
       "      <td>False</td>\n",
       "      <td>False</td>\n",
       "      <td>CN</td>\n",
       "      <td>China</td>\n",
       "      <td>Asia</td>\n",
       "      <td>Beijing</td>\n",
       "      <td>...</td>\n",
       "      <td>NaN</td>\n",
       "      <td>NaN</td>\n",
       "      <td>NaN</td>\n",
       "      <td>NaN</td>\n",
       "      <td>NaN</td>\n",
       "      <td>NaN</td>\n",
       "      <td>NaN</td>\n",
       "      <td>NaN</td>\n",
       "      <td>NaN</td>\n",
       "      <td>1.0</td>\n",
       "    </tr>\n",
       "    <tr>\n",
       "      <th>1141733</th>\n",
       "      <td>HarvardX/PH525.5x/2T2018</td>\n",
       "      <td>True</td>\n",
       "      <td>False</td>\n",
       "      <td>NaN</td>\n",
       "      <td>False</td>\n",
       "      <td>False</td>\n",
       "      <td>BR</td>\n",
       "      <td>Brazil</td>\n",
       "      <td>Americas</td>\n",
       "      <td>Almirante Tamandaré</td>\n",
       "      <td>...</td>\n",
       "      <td>NaN</td>\n",
       "      <td>NaN</td>\n",
       "      <td>NaN</td>\n",
       "      <td>NaN</td>\n",
       "      <td>NaN</td>\n",
       "      <td>NaN</td>\n",
       "      <td>NaN</td>\n",
       "      <td>NaN</td>\n",
       "      <td>NaN</td>\n",
       "      <td>1.0</td>\n",
       "    </tr>\n",
       "    <tr>\n",
       "      <th>1141734</th>\n",
       "      <td>HarvardX/PH525.5x/2T2018</td>\n",
       "      <td>True</td>\n",
       "      <td>False</td>\n",
       "      <td>NaN</td>\n",
       "      <td>False</td>\n",
       "      <td>False</td>\n",
       "      <td>IN</td>\n",
       "      <td>India</td>\n",
       "      <td>Asia</td>\n",
       "      <td>Anand</td>\n",
       "      <td>...</td>\n",
       "      <td>NaN</td>\n",
       "      <td>NaN</td>\n",
       "      <td>NaN</td>\n",
       "      <td>NaN</td>\n",
       "      <td>NaN</td>\n",
       "      <td>NaN</td>\n",
       "      <td>NaN</td>\n",
       "      <td>NaN</td>\n",
       "      <td>NaN</td>\n",
       "      <td>1.0</td>\n",
       "    </tr>\n",
       "  </tbody>\n",
       "</table>\n",
       "<p>1141735 rows × 82 columns</p>\n",
       "</div>"
      ],
      "text/plain": [
       "                        course_id  registered  viewed explored  certified  \\\n",
       "0        HarvardX/PH525.1x/1T2018        True   False      NaN      False   \n",
       "1        HarvardX/PH525.1x/1T2018        True    True     True      False   \n",
       "2        HarvardX/PH525.1x/1T2018        True    True    False      False   \n",
       "3        HarvardX/PH525.1x/1T2018        True    True    False      False   \n",
       "4        HarvardX/PH525.1x/1T2018        True    True     True      False   \n",
       "...                           ...         ...     ...      ...        ...   \n",
       "1141730  HarvardX/PH525.5x/2T2018        True   False      NaN      False   \n",
       "1141731  HarvardX/PH525.5x/2T2018        True   False      NaN      False   \n",
       "1141732  HarvardX/PH525.5x/2T2018        True   False      NaN      False   \n",
       "1141733  HarvardX/PH525.5x/2T2018        True   False      NaN      False   \n",
       "1141734  HarvardX/PH525.5x/2T2018        True   False      NaN      False   \n",
       "\n",
       "         completed cc_by_ip    countryLabel      continent  \\\n",
       "0            False       GB  United Kingdom         Europe   \n",
       "1            False       US   United States       Americas   \n",
       "2            False       NA              NA             NA   \n",
       "3            False       US   United States  North America   \n",
       "4            False       HU         Hungary         Europe   \n",
       "...            ...      ...             ...            ...   \n",
       "1141730      False       NA              NA             NA   \n",
       "1141731      False       IN           India           Asia   \n",
       "1141732      False       CN           China           Asia   \n",
       "1141733      False       BR          Brazil       Americas   \n",
       "1141734      False       IN           India           Asia   \n",
       "\n",
       "                        city  ... roles_isInstructor roles_isStaff  \\\n",
       "0              Middlesbrough  ...                NaN           NaN   \n",
       "1                    Seattle  ...                NaN           NaN   \n",
       "2                         NA  ...                NaN           NaN   \n",
       "3                         NA  ...                NaN           NaN   \n",
       "4                   Budapest  ...                NaN           NaN   \n",
       "...                      ...  ...                ...           ...   \n",
       "1141730                   NA  ...                NaN           NaN   \n",
       "1141731                Delhi  ...                NaN           NaN   \n",
       "1141732              Beijing  ...                NaN           NaN   \n",
       "1141733  Almirante Tamandaré  ...                NaN           NaN   \n",
       "1141734                Anand  ...                NaN           NaN   \n",
       "\n",
       "        roles_isCCX roles_isFinance  roles_isLibrary roles_isSales  \\\n",
       "0               NaN             NaN              NaN           NaN   \n",
       "1               NaN             NaN              NaN           NaN   \n",
       "2               NaN             NaN              NaN           NaN   \n",
       "3               NaN             NaN              NaN           NaN   \n",
       "4               NaN             NaN              NaN           NaN   \n",
       "...             ...             ...              ...           ...   \n",
       "1141730         NaN             NaN              NaN           NaN   \n",
       "1141731         NaN             NaN              NaN           NaN   \n",
       "1141732         NaN             NaN              NaN           NaN   \n",
       "1141733         NaN             NaN              NaN           NaN   \n",
       "1141734         NaN             NaN              NaN           NaN   \n",
       "\n",
       "         forumRoles_isAdmin  forumRoles_isCommunityTA forumRoles_isModerator  \\\n",
       "0                       NaN                       NaN                    NaN   \n",
       "1                       NaN                       NaN                    NaN   \n",
       "2                       NaN                       NaN                    NaN   \n",
       "3                       NaN                       NaN                    NaN   \n",
       "4                       NaN                       NaN                    NaN   \n",
       "...                     ...                       ...                    ...   \n",
       "1141730                 NaN                       NaN                    NaN   \n",
       "1141731                 NaN                       NaN                    NaN   \n",
       "1141732                 NaN                       NaN                    NaN   \n",
       "1141733                 NaN                       NaN                    NaN   \n",
       "1141734                 NaN                       NaN                    NaN   \n",
       "\n",
       "        forumRoles_isStudent  \n",
       "0                        1.0  \n",
       "1                        1.0  \n",
       "2                        1.0  \n",
       "3                        1.0  \n",
       "4                        1.0  \n",
       "...                      ...  \n",
       "1141730                  1.0  \n",
       "1141731                  1.0  \n",
       "1141732                  1.0  \n",
       "1141733                  1.0  \n",
       "1141734                  1.0  \n",
       "\n",
       "[1141735 rows x 82 columns]"
      ]
     },
     "execution_count": 125,
     "metadata": {},
     "output_type": "execute_result"
    }
   ],
   "source": [
    "df = pd.read_csv('APCOMP221Pset1.csv').drop(['user_id', 'username', 'ip', \n",
    "                                             'un_major_region', 'un_economic_group', \n",
    "                                             'un_developing_nation', 'un_special_region',\n",
    "                                            'latitude', 'longitude', 'profile_country'], axis=1)\n",
    "\n",
    "na_replacements = {\n",
    "    'course_id': 'NA',\n",
    "    'cc_by_ip': 'NA',\n",
    "    'countryLabel': 'NA',\n",
    "    'continent': 'NA',\n",
    "    'city': 'NA',\n",
    "    'region': 'NA',\n",
    "    'subdivision': 'NA',\n",
    "    'postalCode': 'NA',\n",
    "    'LoE': 'NA',\n",
    "    'YoB': -1,\n",
    "    'gender': 'NA',\n",
    "    'nforum_posts': 0,\n",
    "    'nforum_votes': 0,\n",
    "    'nforum_endorsed': 0,\n",
    "    'nforum_threads': 0,\n",
    "    'nforum_comments': 0,\n",
    "    'nforum_pinned': 0,\n",
    "    'nforum_events': 0,\n",
    "    'mode': 'NA',\n",
    "    'email_domain': 'NA'\n",
    "}\n",
    "df = df.fillna(na_replacements)\n",
    "df"
   ]
  },
  {
   "cell_type": "code",
   "execution_count": 135,
   "metadata": {},
   "outputs": [
    {
     "data": {
      "text/plain": [
       "['LoE',\n",
       " 'YoB',\n",
       " 'avg_dt',\n",
       " 'cc_by_ip',\n",
       " 'cert_created_date',\n",
       " 'cert_modified_date',\n",
       " 'cert_status',\n",
       " 'certified',\n",
       " 'city',\n",
       " 'completed',\n",
       " 'continent',\n",
       " 'countryLabel',\n",
       " 'course_id',\n",
       " 'email_domain',\n",
       " 'explored',\n",
       " 'first_event',\n",
       " 'forumRoles_isAdmin',\n",
       " 'forumRoles_isCommunityTA',\n",
       " 'forumRoles_isModerator',\n",
       " 'forumRoles_isStudent',\n",
       " 'gender',\n",
       " 'grade',\n",
       " 'is_active',\n",
       " 'language',\n",
       " 'language_brwsr',\n",
       " 'language_brwsr_code',\n",
       " 'language_brwsr_country',\n",
       " 'language_brwsr_ndiff',\n",
       " 'language_brwsr_nevents',\n",
       " 'language_brwsr_sec',\n",
       " 'language_brwsr_sec_code',\n",
       " 'language_brwsr_sec_country',\n",
       " 'language_brwsr_sec_subcode',\n",
       " 'language_brwsr_subcode',\n",
       " 'language_download',\n",
       " 'language_ndiff',\n",
       " 'language_nevents',\n",
       " 'last_event',\n",
       " 'max_dt',\n",
       " 'mode',\n",
       " 'n_dt',\n",
       " 'nchapters',\n",
       " 'ndays_act',\n",
       " 'nevents',\n",
       " 'nforum_comments',\n",
       " 'nforum_endorsed',\n",
       " 'nforum_events',\n",
       " 'nforum_pinned',\n",
       " 'nforum_posts',\n",
       " 'nforum_threads',\n",
       " 'nforum_votes',\n",
       " 'npause_video',\n",
       " 'nplay_video',\n",
       " 'nproblem_check',\n",
       " 'nprogcheck',\n",
       " 'nseek_video',\n",
       " 'nseq_goto',\n",
       " 'nshow_answer',\n",
       " 'ntranscript',\n",
       " 'nvideo',\n",
       " 'nvideos_total_watched',\n",
       " 'nvideos_unique_viewed',\n",
       " 'passing_grade',\n",
       " 'postalCode',\n",
       " 'region',\n",
       " 'registered',\n",
       " 'roles',\n",
       " 'roles_isBetaTester',\n",
       " 'roles_isCCX',\n",
       " 'roles_isFinance',\n",
       " 'roles_isInstructor',\n",
       " 'roles_isLibrary',\n",
       " 'roles_isSales',\n",
       " 'roles_isStaff',\n",
       " 'sdv_dt',\n",
       " 'start_time',\n",
       " 'subdivision',\n",
       " 'sum_dt',\n",
       " 'verified_enroll_time',\n",
       " 'verified_unenroll_time',\n",
       " 'viewed',\n",
       " 'y1_anomalous']"
      ]
     },
     "execution_count": 135,
     "metadata": {},
     "output_type": "execute_result"
    }
   ],
   "source": [
    "sorted(df.columns.values)"
   ]
  },
  {
   "cell_type": "code",
   "execution_count": 71,
   "metadata": {},
   "outputs": [
    {
     "data": {
      "text/plain": [
       "2664"
      ]
     },
     "execution_count": 71,
     "metadata": {},
     "output_type": "execute_result"
    }
   ],
   "source": [
    "df.groupby(quasi_list).size().max()"
   ]
  },
  {
   "cell_type": "code",
   "execution_count": 72,
   "metadata": {},
   "outputs": [
    {
     "data": {
      "text/plain": [
       "2664"
      ]
     },
     "execution_count": 72,
     "metadata": {},
     "output_type": "execute_result"
    }
   ],
   "source": [
    "groups = df.groupby(quasi_list).size()\n",
    "groups.max()"
   ]
  },
  {
   "cell_type": "code",
   "execution_count": 73,
   "metadata": {},
   "outputs": [
    {
     "data": {
      "text/plain": [
       "13.448304554033996"
      ]
     },
     "execution_count": 73,
     "metadata": {},
     "output_type": "execute_result"
    }
   ],
   "source": [
    "def percent_remaining(k):\n",
    "    groups = df.groupby(quasi_list).size()\n",
    "    groups_below_threshold = groups[groups < k]\n",
    "    return (1 - groups_below_threshold.sum() / df.shape[0]) * 100\n",
    "\n",
    "percent_remaining(3)\n",
    "#groups_below_threshold.sum()"
   ]
  },
  {
   "cell_type": "code",
   "execution_count": 74,
   "metadata": {},
   "outputs": [
    {
     "data": {
      "text/plain": [
       "11.527018090887985"
      ]
     },
     "execution_count": 74,
     "metadata": {},
     "output_type": "execute_result"
    }
   ],
   "source": [
    "percent_remaining(4)"
   ]
  },
  {
   "cell_type": "code",
   "execution_count": 75,
   "metadata": {},
   "outputs": [
    {
     "data": {
      "text/plain": [
       "10.348110551047307"
      ]
     },
     "execution_count": 75,
     "metadata": {},
     "output_type": "execute_result"
    }
   ],
   "source": [
    "percent_remaining(5)"
   ]
  },
  {
   "cell_type": "markdown",
   "metadata": {},
   "source": [
    "### Part 2"
   ]
  },
  {
   "cell_type": "code",
   "execution_count": 82,
   "metadata": {},
   "outputs": [
    {
     "name": "stdout",
     "output_type": "stream",
     "text": [
      "Total completion rate: 2.4648\n"
     ]
    }
   ],
   "source": [
    "completion_counts = df['completed'].value_counts(dropna=False)\n",
    "print(f'Total completion rate: {completion_counts[True] / df.shape[0] * 100:.5}')"
   ]
  },
  {
   "cell_type": "code",
   "execution_count": 95,
   "metadata": {},
   "outputs": [
    {
     "data": {
      "text/plain": [
       "False    1141735\n",
       "Name: course_id, dtype: int64"
      ]
     },
     "execution_count": 95,
     "metadata": {},
     "output_type": "execute_result"
    }
   ],
   "source": [
    "groups = df.groupby(quasi_list).size()\n",
    "groups_meeting_threshold = groups[groups >= k]\n",
    "\n",
    "#return (1 - groups_below_threshold.sum() / df.shape[0]) * 100"
   ]
  },
  {
   "cell_type": "markdown",
   "metadata": {},
   "source": [
    "## TODO"
   ]
  },
  {
   "cell_type": "code",
   "execution_count": 97,
   "metadata": {},
   "outputs": [
    {
     "data": {
      "text/plain": [
       "('HarvardX/1368.1x/2T2016',\n",
       " 'NA',\n",
       " 'NA',\n",
       " 'NA',\n",
       " 'NA',\n",
       " 'NA',\n",
       " 'NA',\n",
       " 'NA',\n",
       " 'NA',\n",
       " -1.0,\n",
       " 'NA',\n",
       " 0.0,\n",
       " 0.0,\n",
       " 0.0,\n",
       " 0.0,\n",
       " 0.0,\n",
       " 0.0,\n",
       " 0.0,\n",
       " 'honor',\n",
       " 'gmail.com')"
      ]
     },
     "execution_count": 97,
     "metadata": {},
     "output_type": "execute_result"
    }
   ],
   "source": [
    "groups_meeting_threshold.index[0]"
   ]
  },
  {
   "cell_type": "markdown",
   "metadata": {},
   "source": [
    "## Question 4"
   ]
  },
  {
   "cell_type": "code",
   "execution_count": 104,
   "metadata": {},
   "outputs": [],
   "source": [
    "def n_synthetic_required_for(k):\n",
    "    groups = df.groupby(quasi_list).size()\n",
    "    groups_below_threshold = groups[groups < k]\n",
    "    return (k - groups_below_threshold).sum()"
   ]
  },
  {
   "cell_type": "code",
   "execution_count": 105,
   "metadata": {},
   "outputs": [
    {
     "data": {
      "text/plain": [
       "3837543"
      ]
     },
     "execution_count": 105,
     "metadata": {},
     "output_type": "execute_result"
    }
   ],
   "source": [
    "n_synthetic_required_for(5)"
   ]
  },
  {
   "cell_type": "code",
   "execution_count": 108,
   "metadata": {},
   "outputs": [],
   "source": [
    "import random"
   ]
  },
  {
   "cell_type": "code",
   "execution_count": 118,
   "metadata": {},
   "outputs": [
    {
     "data": {
      "text/plain": [
       "US    308402\n",
       "NA    184426\n",
       "IN     77301\n",
       "GB     40781\n",
       "BR     38065\n",
       "       ...  \n",
       "NR         3\n",
       "ST         2\n",
       "AQ         1\n",
       "FK         1\n",
       "SM         1\n",
       "Name: cc_by_ip, Length: 226, dtype: int64"
      ]
     },
     "execution_count": 118,
     "metadata": {},
     "output_type": "execute_result"
    }
   ],
   "source": [
    "col_counts = df['cc_by_ip'].value_counts()\n",
    "col_counts"
   ]
  },
  {
   "cell_type": "code",
   "execution_count": 119,
   "metadata": {},
   "outputs": [
    {
     "data": {
      "text/plain": [
       "US    297305\n",
       "NA    178095\n",
       "IN     74130\n",
       "GB     39360\n",
       "BR     36850\n",
       "       ...  \n",
       "PW         3\n",
       "AX         2\n",
       "FK         1\n",
       "ST         1\n",
       "SM         1\n",
       "Length: 224, dtype: int64"
      ]
     },
     "execution_count": 119,
     "metadata": {},
     "output_type": "execute_result"
    }
   ],
   "source": [
    "pd.Series(random.choices(col_counts.index.values, weights=col_counts.values, k=int(1.1e6))).value_counts()"
   ]
  },
  {
   "cell_type": "markdown",
   "metadata": {},
   "source": [
    "## Question 5\n",
    "\n",
    "Steps: \n",
    "* Generalize any column that values that have fewer than k members\n",
    "  * Dropping location columns\n",
    "  * Blurring YoB\n",
    "  * Blurring nforum stuff\n",
    "  * email_domain is generalized by TLD\n",
    "  * LoE: college or not, detailed in doc\n",
    "  * Course ID - split hierarchy and remove last segments\n",
    "* Suppress everything else\n",
    "\n"
   ]
  },
  {
   "cell_type": "code",
   "execution_count": 133,
   "metadata": {},
   "outputs": [
    {
     "data": {
      "text/plain": [
       "HarvardX/CS50x3/2015                        126249\n",
       "HarvardX/CS50/X                             124119\n",
       "HarvardX/CS50x/2014_T1                       70600\n",
       "HarvardX/GSD1x/1T2017                        31917\n",
       "HarvardX/MCB80.1x/2013_SOND                  19616\n",
       "                                             ...  \n",
       "HarvardX/MUS24.4x/2T2018                        27\n",
       "HarvardX/HLS1xC/Copyright                       27\n",
       "HarvardX/HLS1xA/Copyright                       26\n",
       "HarvardX/BUS5.1x_Application_Only/3T2015        18\n",
       "HarvardX/HLS1x/2013_Spring                       4\n",
       "Name: course_id, Length: 280, dtype: int64"
      ]
     },
     "execution_count": 133,
     "metadata": {},
     "output_type": "execute_result"
    }
   ],
   "source": [
    "df['course_id'].value_counts()"
   ]
  },
  {
   "cell_type": "code",
   "execution_count": 129,
   "metadata": {},
   "outputs": [
    {
     "data": {
      "text/plain": [
       "NA       704467\n",
       "K2H        4390\n",
       "02138      2677\n",
       "10001      2287\n",
       "10245      2258\n",
       "          ...  \n",
       "32032         1\n",
       "31060         1\n",
       "16630         1\n",
       "16800         1\n",
       "68920         1\n",
       "Name: postalCode, Length: 33174, dtype: int64"
      ]
     },
     "execution_count": 129,
     "metadata": {},
     "output_type": "execute_result"
    }
   ],
   "source": [
    "df['postalCode'].value_counts()"
   ]
  },
  {
   "cell_type": "markdown",
   "metadata": {},
   "source": [
    "## Question 6"
   ]
  },
  {
   "cell_type": "markdown",
   "metadata": {},
   "source": [
    "Sensitive: completed, grade, LoE, nproblem_check, nvideo_plays, nshow_answer, cert_status\n",
    "\n",
    "Combinations can be sensitive: ratio of views to unique videos viewed"
   ]
  }
 ],
 "metadata": {
  "kernelspec": {
   "display_name": "Python 3",
   "language": "python",
   "name": "python3"
  },
  "language_info": {
   "codemirror_mode": {
    "name": "ipython",
    "version": 3
   },
   "file_extension": ".py",
   "mimetype": "text/x-python",
   "name": "python",
   "nbconvert_exporter": "python",
   "pygments_lexer": "ipython3",
   "version": "3.8.1"
  }
 },
 "nbformat": 4,
 "nbformat_minor": 4
}
